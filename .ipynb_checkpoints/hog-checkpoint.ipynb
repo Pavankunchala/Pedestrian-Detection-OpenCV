{
 "cells": [
  {
   "cell_type": "code",
   "execution_count": null,
   "metadata": {},
   "outputs": [],
   "source": [
    "import cv2\n",
    "import imutils\n",
    "\n",
    "#initalizing HOG person Detector \n",
    "\n",
    "hog = cv2.HOGDescriptor()\n",
    "hog.setSVMDetector(cv2.HOGDescriptor_getDefaultPeopleDetector()) \n",
    "\n",
    "\n",
    "cap = cv2.VideoCapture('ped.mp4')\n",
    "\n",
    "fps = cap.get(cv2.CAP_PROP_FPS)\n",
    "\n",
    "\n",
    "width = int(cap.get(3))\n",
    "height = int(cap.get(4))\n",
    "fourcc = cv2.VideoWriter_fourcc(*'XVID')\n",
    "size = (width,height)\n",
    "    \n",
    "out = cv2.VideoWriter(\"result.avi\",fourcc,fps,size)\n",
    "\n",
    "while cap.isOpened():\n",
    "    \n",
    "    \n",
    "    \n",
    "    ret,image = cap.read()\n",
    "    \n",
    "    if ret:\n",
    "        image= imutils.resize(image,width = min(400,image.shape[1]))\n",
    "        \n",
    "        (regions, _) = hog.detectMultiScale(image,   winStride=(4, 4), padding=(4, 4), scale=1.05) \n",
    "        \n",
    "        for (x, y, w, h) in regions: \n",
    "            cv2.rectangle(image, (x, y), (x + w, y + h),   (0, 0, 255), 2) \n",
    "            \n",
    "        \n",
    "        out.write(image)\n",
    "        cv2.imshow('Image',image)\n",
    "        \n",
    "        if cv2.waitKey(1) & 0xFF == ord('q'): \n",
    "            break\n",
    "        \n",
    "    else:\n",
    "        break\n",
    "    \n",
    "cap.release() \n",
    "out.release()\n",
    "cv2.destroyAllWindows()\n",
    "            \n",
    "        \n",
    "   "
   ]
  },
  {
   "cell_type": "code",
   "execution_count": null,
   "metadata": {},
   "outputs": [],
   "source": []
  }
 ],
 "metadata": {
  "kernelspec": {
   "display_name": "Python 3",
   "language": "python",
   "name": "python3"
  },
  "language_info": {
   "codemirror_mode": {
    "name": "ipython",
    "version": 3
   },
   "file_extension": ".py",
   "mimetype": "text/x-python",
   "name": "python",
   "nbconvert_exporter": "python",
   "pygments_lexer": "ipython3",
   "version": "3.7.7"
  }
 },
 "nbformat": 4,
 "nbformat_minor": 4
}
